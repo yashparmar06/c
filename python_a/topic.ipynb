{
 "cells": [
  {
   "cell_type": "code",
   "execution_count": 1,
   "id": "7834ffc7",
   "metadata": {},
   "outputs": [
    {
     "name": "stdout",
     "output_type": "stream",
     "text": [
      "hello wellcome to python\n",
      "hello program\n"
     ]
    }
   ],
   "source": [
    "print(\"hello wellcome to python\")\n",
    "print(\"hello program\")"
   ]
  },
  {
   "cell_type": "code",
   "execution_count": 2,
   "id": "e108b383",
   "metadata": {},
   "outputs": [
    {
     "name": "stdout",
     "output_type": "stream",
     "text": [
      "hello weel come to python | my score is 89\n"
     ]
    }
   ],
   "source": [
    "\"\"\"\n",
    "End : end parameter \n",
    "\"\"\"\n",
    "\n",
    "print(\"hello\",end=\" \")\n",
    "print(\"weel come to python\",end=\" | \")\n",
    "print(\"my score is 89\")"
   ]
  },
  {
   "cell_type": "code",
   "execution_count": 3,
   "id": "a16acd75",
   "metadata": {},
   "outputs": [
    {
     "data": {
      "text/plain": [
       "\"\\nvariable : a name which can store a value \\n\\nRules : \\n\\n       1) we cannot use any reserved word or a keyword as a variable name \\n        e.g  int float ......\\n\\n        2) we can use A to Z , a to z , 0 to 9 , _(underscore) and 0-9 in variable name \\n\\n         3) we can't start variable name with digits \\n\\n               e.g  \\n                    1AGE \\n                     age1   \\n\\n        4) variable name can not contain white space \\n\\n            e.g first name  X \\n                first_name \\n                firstname ---------camle case       \\n\""
      ]
     },
     "execution_count": 3,
     "metadata": {},
     "output_type": "execute_result"
    }
   ],
   "source": [
    "\"\"\"\n",
    "variable : a name which can store a value \n",
    "\n",
    "Rules : \n",
    "      \n",
    "       1) we cannot use any reserved word or a keyword as a variable name \n",
    "        e.g  int float ......\n",
    "    \n",
    "        2) we can use A to Z , a to z , 0 to 9 , _(underscore) and 0-9 in variable name \n",
    "         \n",
    "         3) we can't start variable name with digits \n",
    "               \n",
    "               e.g  \n",
    "                    1AGE \n",
    "                     age1   \n",
    "\n",
    "        4) variable name can not contain white space \n",
    "\n",
    "            e.g first name  X \n",
    "                first_name \n",
    "                firstname ---------camle case       \n",
    "\"\"\" "
   ]
  },
  {
   "cell_type": "code",
   "execution_count": 4,
   "id": "cf5a5d63",
   "metadata": {},
   "outputs": [
    {
     "name": "stdout",
     "output_type": "stream",
     "text": [
      "score\n",
      "89\n"
     ]
    }
   ],
   "source": [
    "score = 89 #here , score is my variablename and 89 in value \n",
    "name = \"python\"\n",
    "\n",
    "print(\"score\") #output : score \n",
    "print(score)   #output : 89"
   ]
  },
  {
   "cell_type": "code",
   "execution_count": 5,
   "id": "f3f8aac9",
   "metadata": {},
   "outputs": [
    {
     "name": "stdout",
     "output_type": "stream",
     "text": [
      "<class 'int'>\n"
     ]
    }
   ],
   "source": [
    "\"\"\"\n",
    "data type : which type of value in a variable\n",
    "\n",
    "in python there is type ()\n",
    "\n",
    "type() : using of type function we can check which type of value \n",
    "         store in a variable\n",
    "\n",
    "\"\"\"\n",
    "\n",
    "print (type (score))"
   ]
  },
  {
   "cell_type": "code",
   "execution_count": 6,
   "id": "3288a4aa",
   "metadata": {},
   "outputs": [
    {
     "name": "stdout",
     "output_type": "stream",
     "text": [
      "my technology nae is python\n",
      "my technology name is python and subject isprograming my score is  89\n",
      "my technology is python subject is programing and my score is 89\n"
     ]
    }
   ],
   "source": [
    " \n",
    "name = \"python\"\n",
    "\n",
    "subject = \"programing\"\n",
    "\n",
    "score =89\n",
    "\n",
    "print(\"my technology nae is\",name)\n",
    "print(\"my technology name is\", name,\"and subject is\"+subject,\"my score is \",score)\n",
    "\n",
    "print(f\"my technology is {name} subject is {subject} and my score is {score}\")\n"
   ]
  },
  {
   "cell_type": "code",
   "execution_count": 7,
   "id": "9c92be81",
   "metadata": {},
   "outputs": [
    {
     "name": "stdout",
     "output_type": "stream",
     "text": [
      "hi \n"
     ]
    }
   ],
   "source": [
    "\"\"\"\n",
    "\n",
    "input (): using of input function we can dynamic value from user \n",
    "\n",
    "  syntax : \n",
    "        \n",
    "            input (\"prompt message )\n",
    "\n",
    "  by default input () function accept value in string format \n",
    "\n",
    "\n",
    "\"\"\"\n",
    "\n",
    "name = input(\"enter your name : \")\n",
    "print(f\"hi {name}\")\n",
    "\n"
   ]
  },
  {
   "cell_type": "code",
   "execution_count": 8,
   "id": "92a4fb75",
   "metadata": {},
   "outputs": [
    {
     "name": "stdout",
     "output_type": "stream",
     "text": [
      "17\n",
      "60\n",
      "2.4\n",
      "2\n",
      "32\n",
      "6.0\n",
      "0\n"
     ]
    }
   ],
   "source": [
    "\"\"\"\"\n",
    "opertors : to perfrom some specific operation at that time we use some symbols \n",
    "\n",
    "a+b here , a and b are operands \n",
    "\n",
    "    and + is an operator \n",
    "\n",
    "1) airthmetic operator \n",
    "\n",
    "    + - * / % // ** \n",
    "\n",
    "2) Assignment operator :\n",
    "\n",
    "   = to assing something \n",
    "\n",
    "       a = 10 here, a is my variable         \n",
    "        \n",
    "       shorthand operator : combination of airthmentic and assignments operator \n",
    "\n",
    "        a = 10 \n",
    "        b = 20 \n",
    "\n",
    "        a = a + b \n",
    "         \n",
    "          or \n",
    "        a+= b    \n",
    "\n",
    "3) relational operator :\n",
    "\n",
    "   > < >= <= == !=\n",
    "\n",
    "4) logical operator :\n",
    "     \n",
    "    and \n",
    "    or \n",
    "    not \n",
    "5) membership operator :\n",
    "\n",
    "     in  \n",
    "     not in \n",
    "6)          \n",
    "\"\"\"\n",
    "\n",
    "a = 12\n",
    "b = 5 \n",
    "\n",
    "print(a + b)\n",
    "print(a * b)\n",
    "print(a / b)\n",
    "print(a // b)\n",
    "print(2 ** 5) # 2 * 2 *2 * 2 *2\n",
    "print(12 / 2) # output : 6\n",
    "print(12 % 2) # output : 0 \n",
    "\n"
   ]
  },
  {
   "cell_type": "code",
   "execution_count": 9,
   "id": "8c7fcc88",
   "metadata": {},
   "outputs": [
    {
     "name": "stdout",
     "output_type": "stream",
     "text": [
      "*****\n",
      "*****\n",
      "*****\n",
      "*****\n",
      "*****\n"
     ]
    }
   ],
   "source": [
    "\"\"\"\n",
    "nested for loop ::\n",
    "loop inside the another loop \n",
    "\n",
    "syntax : \n",
    "\n",
    "for var in sequence :\n",
    "    for var in sequence : \n",
    "    statement \n",
    "\n",
    "\n",
    "\"\"\"\n",
    "for row in range (1,6):\n",
    "    for col in range (1,6):\n",
    "        print(\"*\",end=\"\")\n",
    "    print()\n"
   ]
  },
  {
   "cell_type": "code",
   "execution_count": null,
   "id": "d155f303",
   "metadata": {},
   "outputs": [],
   "source": [
    "\"\"\"\n",
    "*\n",
    "**\n",
    "***\n",
    "****\n",
    "*****\n",
    "\n",
    "\"\"\"\n",
    "\n",
    "for row in range (1,6):\n",
    "    for col in range (1,row+1):\n",
    "        print(\"*\",end=\" \")\n",
    "    print()    \n"
   ]
  },
  {
   "cell_type": "code",
   "execution_count": 3,
   "id": "2db47c51",
   "metadata": {},
   "outputs": [
    {
     "name": "stdout",
     "output_type": "stream",
     "text": [
      "1 \n",
      "1 2 \n",
      "1 2 3 \n",
      "1 2 3 4 \n",
      "1 2 3 4 5 \n"
     ]
    }
   ],
   "source": [
    "\"\"\"\n",
    "1\n",
    "12\n",
    "123\n",
    "1234\n",
    "12345\n",
    "\n",
    "\"\"\"\n",
    "\n",
    "for row in range (1,6):\n",
    "    for col in range (1,row+1):\n",
    "        print(f\"{col}\",end=\" \")\n",
    "    print()    "
   ]
  },
  {
   "cell_type": "code",
   "execution_count": 4,
   "id": "c5f5f6a0",
   "metadata": {},
   "outputs": [
    {
     "name": "stdout",
     "output_type": "stream",
     "text": [
      "1 \n",
      "2 2 \n",
      "3 3 3 \n",
      "4 4 4 4 \n",
      "5 5 5 5 5 \n"
     ]
    }
   ],
   "source": [
    "\"\"\"\n",
    "1\n",
    "22\n",
    "333\n",
    "4444\n",
    "55555\n",
    "\n",
    "\"\"\"\n",
    "for row in range (1,6):\n",
    "    for col in range (1,row+1):\n",
    "        print(f\"{row}\",end=\" \")\n",
    "    print ()    "
   ]
  },
  {
   "cell_type": "code",
   "execution_count": null,
   "id": "856a75ca",
   "metadata": {},
   "outputs": [],
   "source": []
  }
 ],
 "metadata": {
  "kernelspec": {
   "display_name": "Python 3",
   "language": "python",
   "name": "python3"
  },
  "language_info": {
   "codemirror_mode": {
    "name": "ipython",
    "version": 3
   },
   "file_extension": ".py",
   "mimetype": "text/x-python",
   "name": "python",
   "nbconvert_exporter": "python",
   "pygments_lexer": "ipython3",
   "version": "3.13.5"
  }
 },
 "nbformat": 4,
 "nbformat_minor": 5
}
